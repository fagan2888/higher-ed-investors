{
 "metadata": {
  "name": "",
  "signature": "sha256:b8a55feba5bb8415231d75c5a222f366231c758e3282db7434be3fe589ad646a"
 },
 "nbformat": 3,
 "nbformat_minor": 0,
 "worksheets": [
  {
   "cells": [
    {
     "cell_type": "code",
     "collapsed": false,
     "input": [
      "import csv\n",
      "ifile = open('state_14_major_occs_042715_v2.csv',\"rb\")\n",
      "reader = csv.reader(ifile)\n",
      "import pandas as pd\n",
      "import numpy as np\n",
      "column_separator = ','\n",
      "state_data = pd.DataFrame.from_csv('state_14_major_occs_042715_v2.csv', sep=column_separator, header=None)\n",
      "EMP2014 = 2\n",
      "AMEAN2014 = 6\n",
      "x = state_data[AMEAN2014]\n",
      "y = state_data[EMP2014]\n"
     ],
     "language": "python",
     "metadata": {},
     "outputs": [],
     "prompt_number": 3
    },
    {
     "cell_type": "code",
     "collapsed": false,
     "input": [
      "regression = np.polyfit(x,y,1)\n",
      "print regression"
     ],
     "language": "python",
     "metadata": {},
     "outputs": [
      {
       "output_type": "stream",
       "stream": "stdout",
       "text": [
        "[ -4.78198626e-01   1.38194223e+05]\n"
       ]
      }
     ],
     "prompt_number": 4
    },
    {
     "cell_type": "code",
     "collapsed": false,
     "input": [
      "np.corrcoef(x,y=None, rowvar=1, bias=0, ddof=None)\n",
      "np.corrcoef(x,y, rowvar=1, bias=0, ddof=None)\n",
      "import scipy\n",
      "from scipy import stats\n",
      "slope, intercept, r_value, p_value, std_err = stats.linregress(x,y)\n",
      "print \"r-squared:\", r_value**2\n",
      "print \"p-value:\", p_value\n",
      "print \"slope:\", slope\n",
      "print \"intercept:\", intercept\n",
      "print \"standard error:\", std_err\n"
     ],
     "language": "python",
     "metadata": {},
     "outputs": [
      {
       "output_type": "stream",
       "stream": "stdout",
       "text": [
        "r-squared: 0.00342935396341\n",
        "p-value: 0.0435870560863\n",
        "slope: -0.478198626386\n",
        "intercept: 138194.222986\n",
        "standard error: 0.236708508244\n"
       ]
      }
     ],
     "prompt_number": 2
    },
    {
     "cell_type": "code",
     "collapsed": false,
     "input": [
      "from pylab import *\n",
      "plot(x,y,'k.')\n",
      "xlabel('Annual mean Salary 2014'); ylabel('Employment 2014');\n",
      "axis([0,150000,0,500000]);\n",
      "plt.show()"
     ],
     "language": "python",
     "metadata": {},
     "outputs": []
    },
    {
     "cell_type": "code",
     "collapsed": false,
     "input": [],
     "language": "python",
     "metadata": {},
     "outputs": []
    },
    {
     "cell_type": "code",
     "collapsed": false,
     "input": [],
     "language": "python",
     "metadata": {},
     "outputs": []
    }
   ],
   "metadata": {}
  }
 ]
}